{
 "cells": [
  {
   "cell_type": "code",
   "execution_count": 1,
   "id": "fe31fb4f",
   "metadata": {},
   "outputs": [],
   "source": [
    "import pandas as pd"
   ]
  },
  {
   "cell_type": "code",
   "execution_count": 2,
   "id": "5deffcd5",
   "metadata": {},
   "outputs": [],
   "source": [
    "dataset=pd.read_csv(\"50_Startups.csv\")"
   ]
  },
  {
   "cell_type": "code",
   "execution_count": 3,
   "id": "30e7c204",
   "metadata": {},
   "outputs": [],
   "source": [
    "dataset=pd.get_dummies(dataset,dtype=int,drop_first=True)"
   ]
  },
  {
   "cell_type": "code",
   "execution_count": 4,
   "id": "992adad6",
   "metadata": {},
   "outputs": [
    {
     "data": {
      "text/plain": [
       "Index(['R&D Spend', 'Administration', 'Marketing Spend', 'Profit',\n",
       "       'State_Florida', 'State_New York'],\n",
       "      dtype='object')"
      ]
     },
     "execution_count": 4,
     "metadata": {},
     "output_type": "execute_result"
    }
   ],
   "source": [
    "dataset.columns"
   ]
  },
  {
   "cell_type": "code",
   "execution_count": 5,
   "id": "c515348f",
   "metadata": {},
   "outputs": [],
   "source": [
    "independent=dataset[['R&D Spend', 'Administration', 'Marketing Spend','State_Florida', 'State_New York']]"
   ]
  },
  {
   "cell_type": "code",
   "execution_count": null,
   "id": "11c6f7aa",
   "metadata": {},
   "outputs": [],
   "source": []
  },
  {
   "cell_type": "code",
   "execution_count": 6,
   "id": "60b5effa",
   "metadata": {},
   "outputs": [],
   "source": [
    "dependent=dataset[['Profit']]"
   ]
  },
  {
   "cell_type": "code",
   "execution_count": 7,
   "id": "5b6a0f5e",
   "metadata": {},
   "outputs": [],
   "source": [
    "from sklearn.model_selection import train_test_split\n",
    "x_train,x_test,y_train,y_test=train_test_split(independent, dependent, test_size=0.30, random_state=0)"
   ]
  },
  {
   "cell_type": "code",
   "execution_count": 8,
   "id": "defc440f",
   "metadata": {},
   "outputs": [],
   "source": [
    "dataset=pd.get_dummies(dataset,dtype=int,drop_first=True)"
   ]
  },
  {
   "cell_type": "code",
   "execution_count": 9,
   "id": "b945627b",
   "metadata": {},
   "outputs": [
    {
     "data": {
      "text/plain": [
       "array([[ 1.17644103,  0.84515251,  0.94354978,  2.        , -0.76870611],\n",
       "       [ 0.96420324,  1.27283565,  0.42738817,  2.        , -0.76870611],\n",
       "       [-1.47369826,  0.0153175 , -1.52350329, -0.5       ,  1.30088727],\n",
       "       [-1.48308929, -2.79556363, -1.53809178, -0.5       ,  1.30088727],\n",
       "       [-0.14952431,  1.13637282, -0.71716495, -0.5       ,  1.30088727],\n",
       "       [ 0.85312042, -0.04431628,  0.46771725, -0.5       ,  1.30088727],\n",
       "       [-0.22353674, -0.3151007 , -0.83981652,  2.        , -0.76870611],\n",
       "       [-0.19454707,  0.21199679, -1.18497259, -0.5       , -0.76870611],\n",
       "       [ 0.10478723, -0.08388412,  0.48740807, -0.5       , -0.76870611],\n",
       "       [-1.0096458 , -1.07019473, -0.4040623 , -0.5       , -0.76870611],\n",
       "       [ 0.06872897, -0.38396487,  0.75036616, -0.5       , -0.76870611],\n",
       "       [-1.17638797,  0.14067421, -1.26581817, -0.5       ,  1.30088727],\n",
       "       [ 0.97648631,  0.9689421 ,  0.84958395, -0.5       ,  1.30088727],\n",
       "       [ 0.39131191,  0.45560401,  0.3979037 , -0.5       , -0.76870611],\n",
       "       [-0.16880669,  0.6131351 , -0.48098026, -0.5       , -0.76870611],\n",
       "       [ 1.2088001 , -0.92947267,  1.24226224, -0.5       ,  1.30088727],\n",
       "       [ 0.44593006,  0.82758768,  0.62707846, -0.5       ,  1.30088727],\n",
       "       [-0.90483959, -0.20234037, -0.21407884, -0.5       , -0.76870611],\n",
       "       [-1.49419935, -0.26298539, -1.19196207, -0.5       , -0.76870611],\n",
       "       [ 1.83846539,  1.07214791,  1.86319367, -0.5       , -0.76870611],\n",
       "       [ 0.42966802,  0.13827054,  0.37625394,  2.        , -0.76870611],\n",
       "       [-0.59092478, -2.81342077, -0.02839248, -0.5       , -0.76870611],\n",
       "       [ 0.08492419, -0.95017758, -0.46096486, -0.5       ,  1.30088727],\n",
       "       [ 1.26493068,  0.90993408, -0.55948669, -0.5       , -0.76870611],\n",
       "       [-0.11002675, -0.69903054,  0.79713886,  2.        , -0.76870611],\n",
       "       [-0.90669595,  0.12801572,  0.00300304,  2.        , -0.76870611],\n",
       "       [ 0.11250125,  1.16515207,  0.75858643, -0.5       ,  1.30088727],\n",
       "       [ 0.27709192,  1.15508553, -1.53809178, -0.5       ,  1.30088727],\n",
       "       [ 1.03371959, -0.585363  ,  0.79877008, -0.5       , -0.76870611],\n",
       "       [-0.70388936, -1.58289852, -0.19719396, -0.5       , -0.76870611],\n",
       "       [-1.46723718, -0.30831009,  0.73848951,  2.        , -0.76870611],\n",
       "       [ 1.46491286, -0.19745694,  1.39810017, -0.5       ,  1.30088727],\n",
       "       [ 1.89486118,  0.51005662,  2.07686138, -0.5       ,  1.30088727],\n",
       "       [-1.49419935,  0.4529585 , -1.53809178, -0.5       , -0.76870611],\n",
       "       [-1.0396359 ,  1.20524087, -1.32098255, -0.5       , -0.76870611]])"
      ]
     },
     "execution_count": 9,
     "metadata": {},
     "output_type": "execute_result"
    }
   ],
   "source": [
    "from sklearn.preprocessing import StandardScaler\n",
    "sc=StandardScaler()\n",
    "x_train=sc.fit_transform(x_train)\n",
    "x_test=sc.transform(x_test)\n",
    "x_train"
   ]
  },
  {
   "cell_type": "code",
   "execution_count": 10,
   "id": "88ce8e19",
   "metadata": {},
   "outputs": [],
   "source": [
    "from sklearn.preprocessing import StandardScaler\n",
    "scy=StandardScaler()\n",
    "y_train=scy.fit_transform(y_train)\n",
    "y_test=scy.transform(y_test)\n"
   ]
  },
  {
   "cell_type": "code",
   "execution_count": null,
   "id": "c07cd1a7",
   "metadata": {},
   "outputs": [],
   "source": []
  },
  {
   "cell_type": "code",
   "execution_count": null,
   "id": "d9827d5f",
   "metadata": {},
   "outputs": [],
   "source": []
  },
  {
   "cell_type": "code",
   "execution_count": null,
   "id": "5ab630a2",
   "metadata": {},
   "outputs": [],
   "source": []
  },
  {
   "cell_type": "code",
   "execution_count": null,
   "id": "23ac8d86",
   "metadata": {},
   "outputs": [],
   "source": []
  },
  {
   "cell_type": "code",
   "execution_count": 11,
   "id": "0fe20ed9",
   "metadata": {},
   "outputs": [],
   "source": [
    "import pickle\n",
    "filename1=\"initial_data.sav\""
   ]
  },
  {
   "cell_type": "code",
   "execution_count": 12,
   "id": "bf17c590",
   "metadata": {},
   "outputs": [],
   "source": [
    "pickle.dump(([sc,scy]),open(filename1,'wb'))"
   ]
  },
  {
   "cell_type": "code",
   "execution_count": 13,
   "id": "8eb57e29",
   "metadata": {},
   "outputs": [],
   "source": [
    "sc,scy=pickle.load(open(\"initial_data.sav\",'rb'))"
   ]
  },
  {
   "cell_type": "code",
   "execution_count": 14,
   "id": "6e66828f",
   "metadata": {},
   "outputs": [
    {
     "data": {
      "text/plain": [
       "(StandardScaler(), StandardScaler())"
      ]
     },
     "execution_count": 14,
     "metadata": {},
     "output_type": "execute_result"
    }
   ],
   "source": [
    "sc,scy"
   ]
  },
  {
   "cell_type": "code",
   "execution_count": 15,
   "id": "48216e23",
   "metadata": {},
   "outputs": [],
   "source": [
    "import pickle\n",
    "filename1=\"initial_data.sav\""
   ]
  },
  {
   "cell_type": "code",
   "execution_count": 16,
   "id": "dd37c407",
   "metadata": {},
   "outputs": [],
   "source": [
    "sc,scy=pickle.load(open(\"initial_data.sav\",'rb'))"
   ]
  },
  {
   "cell_type": "code",
   "execution_count": 17,
   "id": "3fda43c2",
   "metadata": {},
   "outputs": [],
   "source": [
    "filename2=\"finalized_model_svr.sav\""
   ]
  },
  {
   "cell_type": "code",
   "execution_count": 18,
   "id": "92a9fa0f",
   "metadata": {},
   "outputs": [
    {
     "name": "stderr",
     "output_type": "stream",
     "text": [
      "C:\\Anaconda3\\Lib\\site-packages\\sklearn\\base.py:464: UserWarning: X does not have valid feature names, but StandardScaler was fitted with feature names\n",
      "  warnings.warn(\n"
     ]
    }
   ],
   "source": [
    "preinput=sc.transform([[1300,12000,4000,0,1]])"
   ]
  },
  {
   "cell_type": "code",
   "execution_count": 19,
   "id": "39a34c14",
   "metadata": {},
   "outputs": [],
   "source": [
    "loaded_model=pickle.load(open(\"finalized_model_svr.sav\",'rb'))"
   ]
  },
  {
   "cell_type": "code",
   "execution_count": 20,
   "id": "f9ec4dbf",
   "metadata": {},
   "outputs": [
    {
     "ename": "AttributeError",
     "evalue": "'list' object has no attribute 'predict'",
     "output_type": "error",
     "traceback": [
      "\u001b[1;31m---------------------------------------------------------------------------\u001b[0m",
      "\u001b[1;31mAttributeError\u001b[0m                            Traceback (most recent call last)",
      "Cell \u001b[1;32mIn[20], line 1\u001b[0m\n\u001b[1;32m----> 1\u001b[0m result\u001b[38;5;241m=\u001b[39mloaded_model\u001b[38;5;241m.\u001b[39mpredict(preinput)\n",
      "\u001b[1;31mAttributeError\u001b[0m: 'list' object has no attribute 'predict'"
     ]
    }
   ],
   "source": [
    "result=loaded_model.predict(preinput)"
   ]
  },
  {
   "cell_type": "code",
   "execution_count": null,
   "id": "918f7ebc",
   "metadata": {},
   "outputs": [],
   "source": []
  }
 ],
 "metadata": {
  "kernelspec": {
   "display_name": "Python 3 (ipykernel)",
   "language": "python",
   "name": "python3"
  },
  "language_info": {
   "codemirror_mode": {
    "name": "ipython",
    "version": 3
   },
   "file_extension": ".py",
   "mimetype": "text/x-python",
   "name": "python",
   "nbconvert_exporter": "python",
   "pygments_lexer": "ipython3",
   "version": "3.11.5"
  }
 },
 "nbformat": 4,
 "nbformat_minor": 5
}
